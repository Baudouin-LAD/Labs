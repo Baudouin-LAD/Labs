{
 "cells": [
  {
   "cell_type": "raw",
   "id": "bc3c1f79",
   "metadata": {},
   "source": []
  },
  {
   "cell_type": "code",
   "execution_count": 3,
   "id": "554ab498",
   "metadata": {},
   "outputs": [
    {
     "name": "stdout",
     "output_type": "stream",
     "text": [
      "········\n"
     ]
    }
   ],
   "source": [
    "import pandas as pd\n",
    "import numpy as np\n",
    "import re\n",
    "from sqlalchemy import create_engine \n",
    "import pymysql.cursors\n",
    "import os\n",
    "import getpass\n",
    "\n",
    "pw = os.getenv('IronHack')\n",
    "pw = getpass.getpass()\n",
    "connection_string = 'mysql+pymysql://root:' + pw + '@localhost:3306/'\n",
    "engine = create_engine(connection_string)\n",
    "with engine.connect() as conn:\n",
    "    conn.execute(f\"CREATE DATABASE IF NOT EXISTS alchemy_test\")\n",
    "    \n",
    "data = pd.read_excel('/Users/Baudouin/Ironhack/Project3_Data_cleaning/data.xlsx')\n",
    "\n",
    "\n",
    "# formatting columns naming\n",
    "data.columns = (data.columns\n",
    "                .str.replace('(?<=[a-z])(?=[A-Z])', '_', regex=True)\n",
    "                .str.lower()\n",
    "                .str.replace(' ', '_', regex=True)\n",
    "                .str.replace('-', '_', regex=True))\n",
    "\n",
    "#identifying rows with too many empty values\n",
    "data_slice = data.loc[:,'perseverance':'good_physical_health']\n",
    "data_slice_t_f = data_slice.isnull()\n",
    "nan_rows = [i for i in range(len(data_slice_t_f.index)) if data_slice_t_f.iloc[i].sum() >1]\n",
    "data = data.drop(index=nan_rows)\n",
    "  \n",
    "#replacing empty cells in reasons for lack\n",
    "data['reasons_for_lack'].fillna('No Reason', inplace = True)  \n",
    "    \n",
    "#replacing missing ages with mean age\n",
    "data['age'].fillna(round(data['age'].mean()),inplace=True)\n",
    "\n",
    "#replacing nan cell in mentaldissorder columns as 'No' benefit of the doubt\n",
    "data['mental_disorder'].fillna('No',inplace=True)\n",
    "\n",
    "reasons=\", \".join(data['reasons_for_lack'])\n",
    "reasons_list = list(set([s[1:] if s[0] == ' ' else s for s in reasons.split(',')]))\n",
    "\n",
    "def encodereason(i):\n",
    "    isreason= lambda i,j : 1 if str(i) in str(j) else 0\n",
    "    data[str(i)]=data['reasons_for_lack'].apply(lambda x: isreason(i, x))\n",
    "    return\n",
    "for i in reasons_list:\n",
    "    encodereason(i)\n",
    "    \n",
    "#get a list of unique values per column\n",
    "values = []\n",
    "def standard(d) :\n",
    "    for c in range(len(d.columns)):\n",
    "     if (d.dtypes[c] == np.float64 or d.dtypes[c] == np.int64):\n",
    "         pass\n",
    "     else:\n",
    "         list1 = list(set([s[1:] if s[0] == ' ' else s for s in (\", \".join(d.iloc[:, c].values)).split(',')]))\n",
    "         values.append(list1)\n",
    "standard(data)\n",
    "#get columns index for the non numeric columns\n",
    "cols= [i for i in range(len(data.columns)) if not (data.dtypes[i] == np.float64 or data.dtypes[i] == np.int64)]\n",
    " #create a list of tuples (col index, list of unique values in said column)           \n",
    "array_to_change = list(zip(cols,values))      \n",
    "            \n",
    "#standardisation of the columns content\n",
    "data['gender'] = data['gender'].str.lower()\n",
    "data['influenced']= data['influenced'].replace('unkown','No', regex=True)\n",
    "data['key_traits'] = data['key_traits'].replace('Rrresilience','Resilience', regex=True)\n",
    "data['key_traits'] = data['key_traits'].str.lower()\n",
    "\n",
    "data = data.replace({'target_individual_project_' : {'Yes' : 'True', 'No' : 'False'},\n",
    "                     'city' : { 'Yes' : 'True', 'No' : 'False'},\n",
    "                     'influenced' : { 'Yes' : 'True', 'No' : 'False'},\n",
    "                     'mental_disorder' : { 'Yes' : 'True', 'No' : 'False'},\n",
    "                     'gender' : {'male' : 'False', 'female' : 'True'}})  \n",
    "   \n"
   ]
  },
  {
   "cell_type": "code",
   "execution_count": 4,
   "id": "5a3abe75",
   "metadata": {},
   "outputs": [
    {
     "name": "stdout",
     "output_type": "stream",
     "text": [
      "Index(['education_sector', 'target_individual_project_', 'age', 'gender',\n",
      "       'city', 'influenced', 'perseverance', 'desire_to_take_initiative',\n",
      "       'competitiveness', 'self_reliance', 'strong_need_to_achieve',\n",
      "       'self_confidence', 'good_physical_health', 'mental_disorder',\n",
      "       'key_traits', 'reasons_for_lack', 'target_ent_competency',\n",
      "       'Mental Block', 'Lack of Knowledge',\n",
      "       'Not able to take a Financial Risk', 'Unwillingness to take risk',\n",
      "       'Parental Pressure', 'Academic Pressure', 'No Reason',\n",
      "       'Not willing to start a venture in India and waiting for future relocation',\n",
      "       'Just not interested! (Want to work in the corporate sector or for the government or pursue research or something else)'],\n",
      "      dtype='object')\n"
     ]
    }
   ],
   "source": [
    "print(data.columns)"
   ]
  },
  {
   "cell_type": "code",
   "execution_count": 7,
   "id": "2955152f",
   "metadata": {},
   "outputs": [
    {
     "data": {
      "text/plain": [
       "25"
      ]
     },
     "execution_count": 7,
     "metadata": {},
     "output_type": "execute_result"
    }
   ],
   "source": [
    "data.columns.get_loc('Just not interested! (Want to work in the corporate sector or for the government or pursue research or something else)')"
   ]
  }
 ],
 "metadata": {
  "kernelspec": {
   "display_name": "Python 3 (ipykernel)",
   "language": "python",
   "name": "python3"
  },
  "language_info": {
   "codemirror_mode": {
    "name": "ipython",
    "version": 3
   },
   "file_extension": ".py",
   "mimetype": "text/x-python",
   "name": "python",
   "nbconvert_exporter": "python",
   "pygments_lexer": "ipython3",
   "version": "3.9.13"
  }
 },
 "nbformat": 4,
 "nbformat_minor": 5
}
