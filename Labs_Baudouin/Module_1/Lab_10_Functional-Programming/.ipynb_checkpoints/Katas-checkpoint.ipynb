{
 "cells": [
  {
   "cell_type": "markdown",
   "id": "bc10bbd9",
   "metadata": {},
   "source": [
    " 1. Consider an array/list of sheep where some sheep may be missing from their place. We need a function that counts the number of sheep present in the array (true means present).\n"
   ]
  },
  {
   "cell_type": "code",
   "execution_count": 21,
   "id": "1dc1e9ac",
   "metadata": {},
   "outputs": [
    {
     "name": "stdout",
     "output_type": "stream",
     "text": [
      "['true', 'true', 'true', 'false', 'true', 'true', 'true', 'tru', '', 'true', 'false', 'true', 'false', 'true', 'false', 'false', 'true', 'true', 'true', 'true', 'true', 'false', 'false', 'true', 'true']\n",
      "['true', 'true', 'true', 'false', 'true', 'true', 'true', 'true', 'true', 'false', 'true', 'false', 'true', 'false', 'false', 'true', 'true', 'true', 'true', 'true', 'false', 'false', 'true', 'true']\n"
     ]
    }
   ],
   "source": [
    "list_1='true,  true,  true,  false, true,  true,  true,  true, true,  false, true,  false, true, false, false, true, true,  true,  true,  true, false, false, true,  true,'\n",
    "sheeps_1 = list_1.split()\n",
    "print(sheeps)\n",
    "sheeps = [s[:-1] for s in sheeps_1]\n",
    "print(sheeps)"
   ]
  },
  {
   "cell_type": "code",
   "execution_count": 22,
   "id": "1e959794",
   "metadata": {},
   "outputs": [
    {
     "name": "stdout",
     "output_type": "stream",
     "text": [
      "there are  17  sheeps\n"
     ]
    }
   ],
   "source": [
    "count_sheeps = 0\n",
    "for s in sheeps :\n",
    "    if s == 'true' :\n",
    "        count_sheeps +=1\n",
    "    else:\n",
    "        continue\n",
    "print('there are ',count_sheeps,' sheeps')\n"
   ]
  },
  {
   "cell_type": "markdown",
   "id": "5eaa5f59",
   "metadata": {},
   "source": [
    " 2. Take an array and remove every second element from the array. Always keep the first element and start removing with the next element."
   ]
  },
  {
   "cell_type": "code",
   "execution_count": 23,
   "id": "905f6ca6",
   "metadata": {},
   "outputs": [
    {
     "name": "stdout",
     "output_type": "stream",
     "text": [
      "[1, 2, 3, 4, 5, 6, 7, 8, 9, 10]\n",
      "[2, 4, 6, 8, 10]\n"
     ]
    }
   ],
   "source": [
    "array = [i for i in range(1,11)]\n",
    "second_array = [j for j in array if array.index(j)%2 != 0]\n",
    "print(array)\n",
    "print(second_array)"
   ]
  },
  {
   "cell_type": "markdown",
   "id": "2e346faf",
   "metadata": {},
   "source": [
    " 3. Given a random non-negative number, you have to return the digits of this number within an array in reverse order."
   ]
  },
  {
   "cell_type": "code",
   "execution_count": 29,
   "id": "80d462c0",
   "metadata": {},
   "outputs": [
    {
     "name": "stdout",
     "output_type": "stream",
     "text": [
      "please enter a natural number :234\n",
      "['4', '3', '2']\n"
     ]
    }
   ],
   "source": [
    "n = str(input(\"please enter a natural number :\"))\n",
    "n_list = [i for i in n]\n",
    "n_list.reverse()\n",
    "print(n_list)"
   ]
  },
  {
   "cell_type": "markdown",
   "id": "2602d1c3",
   "metadata": {},
   "source": [
    " 4. In this kata, you are asked to square every digit of a number and concatenate them."
   ]
  },
  {
   "cell_type": "code",
   "execution_count": 35,
   "id": "d8602865",
   "metadata": {},
   "outputs": [
    {
     "name": "stdout",
     "output_type": "stream",
     "text": [
      "please enter a natural number: 24\n"
     ]
    },
    {
     "data": {
      "text/plain": [
       "416"
      ]
     },
     "execution_count": 35,
     "metadata": {},
     "output_type": "execute_result"
    }
   ],
   "source": [
    "def square_digits() :\n",
    "    x=int(input(\"please enter a natural number: \"))\n",
    "    x_digits = [i for i in str(x)]\n",
    "    x_digits_squared = [str(int(j)**2) for j in x_digits]\n",
    "    result = int(\"\".join(x_digits_squared))\n",
    "    return result\n",
    "square_digits()"
   ]
  },
  {
   "cell_type": "markdown",
   "id": "23d2474d",
   "metadata": {},
   "source": [
    " 5. We need a method in the List Class that may count specific digits from a given list of integers. This marked digits will be given in a second list. The method .count_spec_digits()/.countSpecDigits() will accept two arguments, a list of an uncertain amount of integers integers_lists/integersLists (and of an uncertain amount of digits, too) and a second list, digits_list/digitsList that has the specific digits to count which length cannot be be longer than 10 (It's obvious, we've got ten digits). The method will output a list of tuples, each tuple having two elements, the first one will be a digit to count, and second one, its corresponding total frequency in all the integers of the first list. This list of tuples should be ordered with the same order that the digits have in digitsList"
   ]
  },
  {
   "cell_type": "code",
   "execution_count": 58,
   "id": "d613d773",
   "metadata": {},
   "outputs": [
    {
     "name": "stdout",
     "output_type": "stream",
     "text": [
      "[1, 2, 3, 4, 5, 6, 7, 8, 9, 0, 1, 2, 3, 4, 5, 6, 7, 8, 9, 0]\n"
     ]
    },
    {
     "data": {
      "text/plain": [
       "[(0, 2),\n",
       " (1, 2),\n",
       " (2, 2),\n",
       " (3, 2),\n",
       " (4, 2),\n",
       " (5, 2),\n",
       " (6, 2),\n",
       " (7, 2),\n",
       " (8, 2),\n",
       " (9, 2)]"
      ]
     },
     "execution_count": 58,
     "metadata": {},
     "output_type": "execute_result"
    }
   ],
   "source": [
    "testintegers = [1,2,3,4,5,6,7,8,9,0,1,2,3,4,5,6,7,8,9,0]\n",
    "testdigits = [d for d in range(0,10)]\n",
    "\n",
    "def countSpecDigits(integers,digits) :\n",
    "    output =[]\n",
    "    integers = [str(i) for i in integers]\n",
    "    integers_string = \"\".join(integers)\n",
    "    integers = [int(x) for x in integers_string]\n",
    "    print(integers)\n",
    "    for d in digits:\n",
    "        output.append((d,integers.count(d)))\n",
    "    return output\n",
    "\n",
    "countSpecDigits(testintegers,testdigits)"
   ]
  },
  {
   "cell_type": "code",
   "execution_count": null,
   "id": "00de139f",
   "metadata": {},
   "outputs": [],
   "source": []
  }
 ],
 "metadata": {
  "kernelspec": {
   "display_name": "Python 3 (ipykernel)",
   "language": "python",
   "name": "python3"
  },
  "language_info": {
   "codemirror_mode": {
    "name": "ipython",
    "version": 3
   },
   "file_extension": ".py",
   "mimetype": "text/x-python",
   "name": "python",
   "nbconvert_exporter": "python",
   "pygments_lexer": "ipython3",
   "version": "3.9.13"
  }
 },
 "nbformat": 4,
 "nbformat_minor": 5
}
