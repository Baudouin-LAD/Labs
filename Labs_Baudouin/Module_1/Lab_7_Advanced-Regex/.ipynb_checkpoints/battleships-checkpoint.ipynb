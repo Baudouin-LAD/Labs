{
 "cells": [
  {
   "cell_type": "markdown",
   "id": "c38c1988",
   "metadata": {},
   "source": [
    "## Battleships"
   ]
  },
  {
   "cell_type": "markdown",
   "id": "1678c929",
   "metadata": {},
   "source": [
    "### For each player:\n",
    "1. represent the battle field\n",
    "    -  list of lists\n",
    "2. represent ships\n",
    "    - list of tuples (coordinates)\n",
    "3. represent the firing turn\n",
    "    - boolean variable\n",
    "4. represent the firing target\n",
    "    - tuple\n",
    "5. place ships\n",
    "    - enter "
   ]
  },
  {
   "cell_type": "code",
   "execution_count": 64,
   "id": "c958bf27",
   "metadata": {},
   "outputs": [],
   "source": [
    "turn_player = 1 #variable used to track the player's turn\n",
    "turn_number = 0\n",
    "shipsremaining1 = 3\n",
    "shipsremaining2 = 3\n",
    "S2P1 = []\n",
    "S4P1 = []\n",
    "S5P1 = []\n",
    "S2P2 = []\n",
    "S4P2 = []\n",
    "S5P2 = []\n",
    "v = 0"
   ]
  },
  {
   "cell_type": "code",
   "execution_count": 65,
   "id": "fadf719a",
   "metadata": {},
   "outputs": [],
   "source": [
    "battle_field_player1 = [i for i in range (1,26)]\n",
    "battle_field_player2 = [i for i in range (1,26)]"
   ]
  },
  {
   "cell_type": "code",
   "execution_count": 66,
   "id": "5e75c7c7",
   "metadata": {},
   "outputs": [],
   "source": [
    "def placeship(l):\n",
    "    p = 0\n",
    "    position = []\n",
    "    while p < int(l) :\n",
    "        if p==0:\n",
    "            x = int(input('select the first square off your boat'))\n",
    "            position.append(x)\n",
    "            p+=1\n",
    "        else:\n",
    "            x = int(input('select the next square for your boat'))\n",
    "            if x == position[-1]+1 or x == position[-1]-1 or x == position[-1]+5 or x == position[-1]-5:\n",
    "                position.append(x)\n",
    "                p+=1\n",
    "            else:\n",
    "                print('you can only position your boats vertically or horizontally')\n",
    "    return position\n",
    "    \n",
    "\n",
    "\n",
    "    "
   ]
  },
  {
   "cell_type": "code",
   "execution_count": 67,
   "id": "358ad9aa",
   "metadata": {},
   "outputs": [],
   "source": [
    "def shoot():\n",
    "    a = 0\n",
    "    t = int(input('where do you want to shoot?'))\n",
    "    while a == 0:\n",
    "        if t > 25:\n",
    "            print('you can not shoot outside the battlefield!')\n",
    "        else:\n",
    "            if v == 1 :\n",
    "                if t in battle_field_player2 :\n",
    "                    battle_field_player2.remove(t)\n",
    "                    if t in S2P2 :\n",
    "                        S2P2.remove(t)\n",
    "                        a = 1\n",
    "                        result = 'hit'\n",
    "                    elif t in S4P1 :\n",
    "                        S4P2.remove(t)\n",
    "                        a = 1\n",
    "                        result = 'hit'\n",
    "                    elif t in S5P1 :\n",
    "                        S5P2.remove(t)\n",
    "                        a = 1\n",
    "                        result = 'hit'\n",
    "                    else :\n",
    "                        a=1\n",
    "                        result = 'miss'\n",
    "                else :\n",
    "                    print('you have already targeted this square!')\n",
    "                \n",
    "            else  :\n",
    "                if t in battle_field_player1 :\n",
    "                    battle_field_player1.remove(t)\n",
    "                    if t in S2P1 :\n",
    "                        S2P1.remove(t)\n",
    "                        a = 1\n",
    "                        result = 'hit'\n",
    "                    elif t in S4P1 :\n",
    "                        S4P1.remove(t)\n",
    "                        a = 1\n",
    "                        result = 'hit'\n",
    "                    elif t in S5P1 :\n",
    "                        S5P1.remove(t)\n",
    "                        a = 1\n",
    "                        result = 'hit'\n",
    "                    else :\n",
    "                        a = 2\n",
    "                        1\n",
    "                        result = 'miss'\n",
    "                else :\n",
    "                    print('you have already targeted this square!')\n",
    "        return result\n",
    "                          \n",
    "                \n",
    "                    \n",
    "                        \n",
    "                "
   ]
  },
  {
   "cell_type": "code",
   "execution_count": null,
   "id": "d0da3118",
   "metadata": {},
   "outputs": [
    {
     "name": "stdout",
     "output_type": "stream",
     "text": [
      "select the first square off your boat2\n",
      "select the next square for your boat8\n",
      "you can only position your boats vertically or horizontally\n",
      "select the next square for your boat3\n",
      "the position of your 2boat is:  [2, 3]\n",
      "select the first square off your boat1\n",
      "select the next square for your boat2\n",
      "select the next square for your boat3\n",
      "select the next square for your boat4\n",
      "the position of your 4boat is:  [1, 2, 3, 4]\n",
      "select the first square off your boat5\n",
      "select the next square for your boat10\n",
      "select the next square for your boat15\n",
      "select the next square for your boat20\n",
      "select the next square for your boat25\n",
      "the position of your 5boat is:  [5, 10, 15, 20, 25]\n",
      "where do you want to shoot?1\n",
      "hit\n",
      "where do you want to shoot?12\n",
      "miss\n"
     ]
    }
   ],
   "source": [
    "\n",
    "while v < 4:\n",
    "    if turn_number == 0 :\n",
    "        S2P1 = placeship(2)\n",
    "        print('the position of your 2boat is: ',S2P1)\n",
    "        S4P1 = placeship(4)\n",
    "        print('the position of your 4boat is: ',S4P1)\n",
    "        S5P1 = placeship(5)\n",
    "        print('the position of your 5boat is: ',S5P1)\n",
    "        turn_number += 1\n",
    "    else   :\n",
    "        print(shoot())\n",
    "        v += 1\n",
    "        "
   ]
  },
  {
   "cell_type": "code",
   "execution_count": null,
   "id": "0b6b2a05",
   "metadata": {},
   "outputs": [],
   "source": [
    "p1B = [i for i in S2P1 , j for j in S4P1]"
   ]
  }
 ],
 "metadata": {
  "kernelspec": {
   "display_name": "Python 3 (ipykernel)",
   "language": "python",
   "name": "python3"
  },
  "language_info": {
   "codemirror_mode": {
    "name": "ipython",
    "version": 3
   },
   "file_extension": ".py",
   "mimetype": "text/x-python",
   "name": "python",
   "nbconvert_exporter": "python",
   "pygments_lexer": "ipython3",
   "version": "3.9.13"
  }
 },
 "nbformat": 4,
 "nbformat_minor": 5
}
