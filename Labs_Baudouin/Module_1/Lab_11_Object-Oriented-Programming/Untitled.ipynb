{
 "cells": [
  {
   "cell_type": "markdown",
   "id": "9b32c22e",
   "metadata": {},
   "source": [
    " 1. Define a method/function that removes from a given array of integers all the values contained in a second array."
   ]
  },
  {
   "cell_type": "code",
   "execution_count": 7,
   "id": "4488de9d",
   "metadata": {},
   "outputs": [
    {
     "data": {
      "text/plain": [
       "[2, 2, 4]"
      ]
     },
     "execution_count": 7,
     "metadata": {},
     "output_type": "execute_result"
    }
   ],
   "source": [
    "L1 = [1, 1, 2, 3, 1, 2, 3, 4]\n",
    "L2 = [1, 3]\n",
    "def remover(list1,list2):\n",
    "    L3 = [i for i in list1 if i not in list2]\n",
    "    return L3\n",
    "remover(L1,L2)"
   ]
  },
  {
   "cell_type": "markdown",
   "id": "f410d684",
   "metadata": {},
   "source": [
    " 2. Count the number of occurrences of each character and return it as a (list of tuples) in order of appearance. For empty output return (an empty list)."
   ]
  },
  {
   "cell_type": "code",
   "execution_count": 10,
   "id": "e0ec91c3",
   "metadata": {},
   "outputs": [
    {
     "data": {
      "text/plain": [
       "[('a', 5), ('b', 2), ('r', 2), ('c', 1), ('d', 1)]"
      ]
     },
     "execution_count": 10,
     "metadata": {},
     "output_type": "execute_result"
    }
   ],
   "source": [
    "string = 'abracadabra'\n",
    "def ordered_count(s):\n",
    "    individual_letters = list(dict.fromkeys(s))\n",
    "    result = []\n",
    "    for i in individual_letters:\n",
    "        result.append((i,s.count(i))) \n",
    "    return result\n",
    "ordered_count(string)"
   ]
  },
  {
   "cell_type": "code",
   "execution_count": 13,
   "id": "15c3f110",
   "metadata": {},
   "outputs": [
    {
     "name": "stdout",
     "output_type": "stream",
     "text": [
      "[('a', 5), ('b', 2), ('r', 2), ('c', 1), ('d', 1)]\n"
     ]
    }
   ],
   "source": [
    "x=\"abracadabra\"\n",
    "def occurence_letter(x):\n",
    "    x=str(x)\n",
    "    lst=list(x)\n",
    "    used_char=[]\n",
    "    result=[]\n",
    "    for i in lst:\n",
    "        if i not in used_char:\n",
    "            j=lst.count(i)\n",
    "            used_char.append(i)\n",
    "            result.append((i,j))\n",
    "        else:\n",
    "            continue\n",
    "    \n",
    "    print(result)\n",
    "occurence_letter(x)\n"
   ]
  },
  {
   "cell_type": "code",
   "execution_count": null,
   "id": "fcfc9439",
   "metadata": {},
   "outputs": [],
   "source": []
  }
 ],
 "metadata": {
  "kernelspec": {
   "display_name": "Python 3 (ipykernel)",
   "language": "python",
   "name": "python3"
  },
  "language_info": {
   "codemirror_mode": {
    "name": "ipython",
    "version": 3
   },
   "file_extension": ".py",
   "mimetype": "text/x-python",
   "name": "python",
   "nbconvert_exporter": "python",
   "pygments_lexer": "ipython3",
   "version": "3.9.13"
  }
 },
 "nbformat": 4,
 "nbformat_minor": 5
}
