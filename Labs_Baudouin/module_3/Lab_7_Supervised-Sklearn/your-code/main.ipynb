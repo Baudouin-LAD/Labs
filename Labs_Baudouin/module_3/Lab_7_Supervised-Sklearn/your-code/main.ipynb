{
 "cells": [
  {
   "cell_type": "markdown",
   "metadata": {},
   "source": [
    "# Before your start:\n",
    "- Read the README.md file\n",
    "- Comment as much as you can and use the resources in the README.md file\n",
    "- Happy learning!"
   ]
  },
  {
   "cell_type": "code",
   "execution_count": 8,
   "metadata": {},
   "outputs": [],
   "source": [
    "import numpy as np\n",
    "from sklearn.linear_model import LinearRegression\n",
    "from sklearn.neighbors import KNeighborsRegressor\n",
    "from sklearn.model_selection import train_test_split\n",
    "from sklearn.preprocessing import StandardScaler\n",
    "from sklearn.preprocessing import OneHotEncoder\n",
    "from sklearn.metrics import mean_absolute_error, mean_squared_error, r2_score\n",
    "import matplotlib.pyplot as plt\n",
    "import seaborn as sns\n",
    "import pandas as pd\n",
    "from sklearn.datasets import fetch_openml\n",
    "import warnings\n",
    "\n",
    "warnings.filterwarnings('ignore')"
   ]
  },
  {
   "cell_type": "markdown",
   "metadata": {},
   "source": [
    "# Challenge 1 - Explore the Scikit-Learn Datasets\n",
    "\n",
    "Before starting to work on our own datasets, let's first explore the datasets that are included in this Python library. These datasets have been cleaned and formatted for use in ML algorithms."
   ]
  },
  {
   "cell_type": "markdown",
   "metadata": {},
   "source": [
    "First, we will load the diabetes dataset. Do this in the cell below by importing the datasets and then loading the dataset  to the `diabetes` variable using the `load_diabetes()` function ([documentation](https://scikit-learn.org/stable/modules/generated/sklearn.datasets.load_diabetes.html))."
   ]
  },
  {
   "cell_type": "code",
   "execution_count": 144,
   "metadata": {},
   "outputs": [
    {
     "data": {
      "text/plain": [
       "{'data': array([[ 0.03807591,  0.05068012,  0.06169621, ..., -0.00259226,\n",
       "          0.01990749, -0.01764613],\n",
       "        [-0.00188202, -0.04464164, -0.05147406, ..., -0.03949338,\n",
       "         -0.06833155, -0.09220405],\n",
       "        [ 0.08529891,  0.05068012,  0.04445121, ..., -0.00259226,\n",
       "          0.00286131, -0.02593034],\n",
       "        ...,\n",
       "        [ 0.04170844,  0.05068012, -0.01590626, ..., -0.01107952,\n",
       "         -0.04688253,  0.01549073],\n",
       "        [-0.04547248, -0.04464164,  0.03906215, ...,  0.02655962,\n",
       "          0.04452873, -0.02593034],\n",
       "        [-0.04547248, -0.04464164, -0.0730303 , ..., -0.03949338,\n",
       "         -0.00422151,  0.00306441]]),\n",
       " 'target': array([151.,  75., 141., 206., 135.,  97., 138.,  63., 110., 310., 101.,\n",
       "         69., 179., 185., 118., 171., 166., 144.,  97., 168.,  68.,  49.,\n",
       "         68., 245., 184., 202., 137.,  85., 131., 283., 129.,  59., 341.,\n",
       "         87.,  65., 102., 265., 276., 252.,  90., 100.,  55.,  61.,  92.,\n",
       "        259.,  53., 190., 142.,  75., 142., 155., 225.,  59., 104., 182.,\n",
       "        128.,  52.,  37., 170., 170.,  61., 144.,  52., 128.,  71., 163.,\n",
       "        150.,  97., 160., 178.,  48., 270., 202., 111.,  85.,  42., 170.,\n",
       "        200., 252., 113., 143.,  51.,  52., 210.,  65., 141.,  55., 134.,\n",
       "         42., 111.,  98., 164.,  48.,  96.,  90., 162., 150., 279.,  92.,\n",
       "         83., 128., 102., 302., 198.,  95.,  53., 134., 144., 232.,  81.,\n",
       "        104.,  59., 246., 297., 258., 229., 275., 281., 179., 200., 200.,\n",
       "        173., 180.,  84., 121., 161.,  99., 109., 115., 268., 274., 158.,\n",
       "        107.,  83., 103., 272.,  85., 280., 336., 281., 118., 317., 235.,\n",
       "         60., 174., 259., 178., 128.,  96., 126., 288.,  88., 292.,  71.,\n",
       "        197., 186.,  25.,  84.,  96., 195.,  53., 217., 172., 131., 214.,\n",
       "         59.,  70., 220., 268., 152.,  47.,  74., 295., 101., 151., 127.,\n",
       "        237., 225.,  81., 151., 107.,  64., 138., 185., 265., 101., 137.,\n",
       "        143., 141.,  79., 292., 178.,  91., 116.,  86., 122.,  72., 129.,\n",
       "        142.,  90., 158.,  39., 196., 222., 277.,  99., 196., 202., 155.,\n",
       "         77., 191.,  70.,  73.,  49.,  65., 263., 248., 296., 214., 185.,\n",
       "         78.,  93., 252., 150.,  77., 208.,  77., 108., 160.,  53., 220.,\n",
       "        154., 259.,  90., 246., 124.,  67.,  72., 257., 262., 275., 177.,\n",
       "         71.,  47., 187., 125.,  78.,  51., 258., 215., 303., 243.,  91.,\n",
       "        150., 310., 153., 346.,  63.,  89.,  50.,  39., 103., 308., 116.,\n",
       "        145.,  74.,  45., 115., 264.,  87., 202., 127., 182., 241.,  66.,\n",
       "         94., 283.,  64., 102., 200., 265.,  94., 230., 181., 156., 233.,\n",
       "         60., 219.,  80.,  68., 332., 248.,  84., 200.,  55.,  85.,  89.,\n",
       "         31., 129.,  83., 275.,  65., 198., 236., 253., 124.,  44., 172.,\n",
       "        114., 142., 109., 180., 144., 163., 147.,  97., 220., 190., 109.,\n",
       "        191., 122., 230., 242., 248., 249., 192., 131., 237.,  78., 135.,\n",
       "        244., 199., 270., 164.,  72.,  96., 306.,  91., 214.,  95., 216.,\n",
       "        263., 178., 113., 200., 139., 139.,  88., 148.,  88., 243.,  71.,\n",
       "         77., 109., 272.,  60.,  54., 221.,  90., 311., 281., 182., 321.,\n",
       "         58., 262., 206., 233., 242., 123., 167.,  63., 197.,  71., 168.,\n",
       "        140., 217., 121., 235., 245.,  40.,  52., 104., 132.,  88.,  69.,\n",
       "        219.,  72., 201., 110.,  51., 277.,  63., 118.,  69., 273., 258.,\n",
       "         43., 198., 242., 232., 175.,  93., 168., 275., 293., 281.,  72.,\n",
       "        140., 189., 181., 209., 136., 261., 113., 131., 174., 257.,  55.,\n",
       "         84.,  42., 146., 212., 233.,  91., 111., 152., 120.,  67., 310.,\n",
       "         94., 183.,  66., 173.,  72.,  49.,  64.,  48., 178., 104., 132.,\n",
       "        220.,  57.]),\n",
       " 'frame': None,\n",
       " 'DESCR': '.. _diabetes_dataset:\\n\\nDiabetes dataset\\n----------------\\n\\nTen baseline variables, age, sex, body mass index, average blood\\npressure, and six blood serum measurements were obtained for each of n =\\n442 diabetes patients, as well as the response of interest, a\\nquantitative measure of disease progression one year after baseline.\\n\\n**Data Set Characteristics:**\\n\\n  :Number of Instances: 442\\n\\n  :Number of Attributes: First 10 columns are numeric predictive values\\n\\n  :Target: Column 11 is a quantitative measure of disease progression one year after baseline\\n\\n  :Attribute Information:\\n      - age     age in years\\n      - sex\\n      - bmi     body mass index\\n      - bp      average blood pressure\\n      - s1      tc, total serum cholesterol\\n      - s2      ldl, low-density lipoproteins\\n      - s3      hdl, high-density lipoproteins\\n      - s4      tch, total cholesterol / HDL\\n      - s5      ltg, possibly log of serum triglycerides level\\n      - s6      glu, blood sugar level\\n\\nNote: Each of these 10 feature variables have been mean centered and scaled by the standard deviation times the square root of `n_samples` (i.e. the sum of squares of each column totals 1).\\n\\nSource URL:\\nhttps://www4.stat.ncsu.edu/~boos/var.select/diabetes.html\\n\\nFor more information see:\\nBradley Efron, Trevor Hastie, Iain Johnstone and Robert Tibshirani (2004) \"Least Angle Regression,\" Annals of Statistics (with discussion), 407-499.\\n(https://web.stanford.edu/~hastie/Papers/LARS/LeastAngle_2002.pdf)\\n',\n",
       " 'feature_names': ['age',\n",
       "  'sex',\n",
       "  'bmi',\n",
       "  'bp',\n",
       "  's1',\n",
       "  's2',\n",
       "  's3',\n",
       "  's4',\n",
       "  's5',\n",
       "  's6'],\n",
       " 'data_filename': 'diabetes_data_raw.csv.gz',\n",
       " 'target_filename': 'diabetes_target.csv.gz',\n",
       " 'data_module': 'sklearn.datasets.data'}"
      ]
     },
     "execution_count": 144,
     "metadata": {},
     "output_type": "execute_result"
    }
   ],
   "source": [
    "from sklearn import datasets, ensemble\n",
    "diabetes = datasets.load_diabetes()\n",
    "X, y = diabetes.data, diabetes.target\n",
    "diabetes"
   ]
  },
  {
   "cell_type": "markdown",
   "metadata": {},
   "source": [
    "Let's explore this variable by looking at the different attributes (keys) of `diabetes`. Note that the `load_diabetes` function does not return dataframes. It returns you a Python dictionary."
   ]
  },
  {
   "cell_type": "code",
   "execution_count": 145,
   "metadata": {},
   "outputs": [
    {
     "data": {
      "text/plain": [
       "dict_keys(['data', 'target', 'frame', 'DESCR', 'feature_names', 'data_filename', 'target_filename', 'data_module'])"
      ]
     },
     "execution_count": 145,
     "metadata": {},
     "output_type": "execute_result"
    }
   ],
   "source": [
    "diabetes.keys()"
   ]
  },
  {
   "cell_type": "markdown",
   "metadata": {},
   "source": [
    "#### The next step is to read the description of the dataset. \n",
    "\n",
    "Print the description in the cell below using the `DESCR` attribute of the `diabetes` variable. Read the data description carefully to fully understand what each column represents.\n",
    "\n",
    "*Hint: If your output is ill-formatted by displaying linebreaks as `\\n`, it means you are not using the `print` function.*"
   ]
  },
  {
   "cell_type": "code",
   "execution_count": 154,
   "metadata": {
    "scrolled": false
   },
   "outputs": [
    {
     "name": "stdout",
     "output_type": "stream",
     "text": [
      ".. _diabetes_dataset:\n",
      "\n",
      "Diabetes dataset\n",
      "----------------\n",
      "\n",
      "Ten baseline variables, age, sex, body mass index, average blood\n",
      "pressure, and six blood serum measurements were obtained for each of n =\n",
      "442 diabetes patients, as well as the response of interest, a\n",
      "quantitative measure of disease progression one year after baseline.\n",
      "\n",
      "**Data Set Characteristics:**\n",
      "\n",
      "  :Number of Instances: 442\n",
      "\n",
      "  :Number of Attributes: First 10 columns are numeric predictive values\n",
      "\n",
      "  :Target: Column 11 is a quantitative measure of disease progression one year after baseline\n",
      "\n",
      "  :Attribute Information:\n",
      "      - age     age in years\n",
      "      - sex\n",
      "      - bmi     body mass index\n",
      "      - bp      average blood pressure\n",
      "      - s1      tc, total serum cholesterol\n",
      "      - s2      ldl, low-density lipoproteins\n",
      "      - s3      hdl, high-density lipoproteins\n",
      "      - s4      tch, total cholesterol / HDL\n",
      "      - s5      ltg, possibly log of serum triglycerides level\n",
      "      - s6      glu, blood sugar level\n",
      "\n",
      "Note: Each of these 10 feature variables have been mean centered and scaled by the standard deviation times the square root of `n_samples` (i.e. the sum of squares of each column totals 1).\n",
      "\n",
      "Source URL:\n",
      "https://www4.stat.ncsu.edu/~boos/var.select/diabetes.html\n",
      "\n",
      "For more information see:\n",
      "Bradley Efron, Trevor Hastie, Iain Johnstone and Robert Tibshirani (2004) \"Least Angle Regression,\" Annals of Statistics (with discussion), 407-499.\n",
      "(https://web.stanford.edu/~hastie/Papers/LARS/LeastAngle_2002.pdf)\n",
      "\n"
     ]
    }
   ],
   "source": [
    "print(diabetes.DESCR)\n",
    "\n"
   ]
  },
  {
   "cell_type": "markdown",
   "metadata": {},
   "source": [
    "#### Based on the data description, answer the following questions:\n",
    "\n",
    "1. How many attributes are there in the data? What do they mean?\n",
    "\n",
    "1. What is the relation between `diabetes['data']` and `diabetes['target']`?\n",
    "\n",
    "1. How many records are there in the data?"
   ]
  },
  {
   "cell_type": "code",
   "execution_count": null,
   "metadata": {},
   "outputs": [],
   "source": [
    "\"\"\"\"\n",
    "1. 9 all of them are explicited in section 7 of the data's description\n",
    "2. for a same index, you have one individual\n",
    "3. there are 768 records in the data\n"
   ]
  },
  {
   "cell_type": "markdown",
   "metadata": {},
   "source": [
    "#### Now explore what are contained in the *data* portion as well as the *target* portion of `diabetes`. \n",
    "\n",
    "Scikit-learn typically takes in 2D numpy arrays as input (though pandas dataframes are also accepted). Inspect the shape of `data` and `target`. Confirm they are consistent with the data description."
   ]
  },
  {
   "cell_type": "code",
   "execution_count": 30,
   "metadata": {},
   "outputs": [
    {
     "name": "stdout",
     "output_type": "stream",
     "text": [
      "(768, 8)\n",
      "(768,)\n"
     ]
    }
   ],
   "source": [
    "print(diabetes['data'].shape)\n",
    "print(diabetes['target'].shape)"
   ]
  },
  {
   "cell_type": "markdown",
   "metadata": {},
   "source": [
    "# Challenge 2 - Perform Supervised Learning on the Dataset"
   ]
  },
  {
   "cell_type": "markdown",
   "metadata": {},
   "source": [
    "The data have already been split to predictor (*data*) and response (*target*) variables. Given this information, we'll apply what we have previously learned about linear regression and apply the algorithm to the diabetes dataset.\n",
    "\n",
    "#### Let's briefly revisit the linear regression formula:\n",
    "\n",
    "```\n",
    "y = β0 + β1X1 + β2X2 + ... + βnXn + ϵ\n",
    "```\n",
    "\n",
    "...where:\n",
    "\n",
    "- X1-Xn: data \n",
    "- β0: intercept \n",
    "- β1-βn: coefficients \n",
    "- ϵ: error (cannot explained by model)\n",
    "- y: target\n",
    "\n",
    "Also take a look at the `sklearn.linear_model.LinearRegression` [documentation](https://scikit-learn.org/stable/modules/generated/sklearn.linear_model.LinearRegression.html).\n",
    "\n",
    "#### In the cell below, import the `linear_model` class from `sklearn`. "
   ]
  },
  {
   "cell_type": "markdown",
   "metadata": {},
   "source": [
    "#### Create a new instance of the linear regression model and assign the new instance to the variable `diabetes_model`."
   ]
  },
  {
   "cell_type": "code",
   "execution_count": 45,
   "metadata": {},
   "outputs": [],
   "source": [
    "def build_linear_regression_model(X_train, y_train):\n",
    "    # Create a linear regression object\n",
    "    lr = LinearRegression()\n",
    "    \n",
    "    # Train the model using the training data\n",
    "    lr.fit(X_train, y_train)\n",
    "    \n",
    "    # Return the trained model\n",
    "    return lr\n",
    "\n"
   ]
  },
  {
   "cell_type": "markdown",
   "metadata": {},
   "source": [
    "#### Next, let's split the training and test data.\n",
    "\n",
    "Define `diabetes_data_train`, `diabetes_target_train`, `diabetes_data_test`, and `diabetes_target_test`. Use the last 20 records for the test data and the rest for the training data."
   ]
  },
  {
   "cell_type": "code",
   "execution_count": 56,
   "metadata": {},
   "outputs": [],
   "source": [
    "def split(data):\n",
    "    test=data.tail(20)\n",
    "    train=data[:-20]\n",
    "    return (train,test)\n",
    "training_data = split(data)[0].iloc[:,0:8]\n",
    "training_target=split(data)[0].iloc[:,-1]\n",
    "test_data = split(data)[1].iloc[:,0:8]\n",
    "test_target=split(data)[1].iloc[:,-1]"
   ]
  },
  {
   "cell_type": "markdown",
   "metadata": {},
   "source": [
    "Fit the training data and target to `diabetes_model`. Print the *intercept* and *coefficients* of the model."
   ]
  },
  {
   "cell_type": "code",
   "execution_count": 61,
   "metadata": {},
   "outputs": [
    {
     "name": "stdout",
     "output_type": "stream",
     "text": [
      "-0.8319337572515157\n",
      "[ 0.02239148  0.00581077 -0.00232574  0.00052319 -0.00019097  0.01298855\n",
      "  0.14092583  0.00220817]\n"
     ]
    }
   ],
   "source": [
    "diabetes_model=build_linear_regression_model(training_data,training_target)\n",
    "print(diabetes_model.intercept_)\n",
    "print(diabetes_model.coef_)"
   ]
  },
  {
   "cell_type": "markdown",
   "metadata": {},
   "source": [
    "#### Inspecting the results\n",
    "\n",
    "From the outputs you should have seen:\n",
    "\n",
    "- The intercept is a float number.\n",
    "- The coefficients are an array containing 10 float numbers.\n",
    "\n",
    "This is the linear regression model fitted to your training dataset.\n",
    "\n",
    "#### Using your fitted linear regression model, predict the *y* of `diabetes_data_test`."
   ]
  },
  {
   "cell_type": "code",
   "execution_count": 68,
   "metadata": {},
   "outputs": [],
   "source": [
    "predicted_target = diabetes_model.predict(training_data)"
   ]
  },
  {
   "cell_type": "markdown",
   "metadata": {},
   "source": [
    "#### Print your `diabetes_target_test` and compare with the prediction. "
   ]
  },
  {
   "cell_type": "code",
   "execution_count": 76,
   "metadata": {},
   "outputs": [
    {
     "data": {
      "text/plain": [
       "array([ 6.48451430e-01,  9.46033321e-03,  7.29718152e-01, -1.69164435e-02,\n",
       "        8.12454371e-01,  2.09046058e-01,  6.71370760e-02,  6.01636156e-01,\n",
       "        6.50063696e-01,  2.20900249e-03,  2.64379980e-01,  8.40405209e-01,\n",
       "        6.94548073e-01,  5.76944047e-01,  5.84122808e-01,  4.34409402e-01,\n",
       "        3.80019738e-01,  2.63163539e-01,  3.84288264e-01,  2.87871525e-01,\n",
       "        4.08586791e-01,  3.51984283e-01,  9.25437380e-01,  3.71091855e-01,\n",
       "        6.39868699e-01,  4.70534918e-01,  6.45151363e-01,  2.59939155e-04,\n",
       "        5.48678013e-01,  3.20227426e-01,  4.29593212e-01,  5.40827011e-01,\n",
       "        1.54608600e-02, -3.01673141e-02,  4.65711584e-01,  2.17924399e-01,\n",
       "        6.07196961e-01,  4.27504477e-01,  2.26310896e-01,  5.21652115e-01,\n",
       "        6.69257266e-01,  6.04202968e-01,  1.70147147e-01,  8.84651286e-01,\n",
       "        5.85516631e-01,  9.48406085e-01,  4.37867454e-01, -2.84202409e-02,\n",
       "        4.11343033e-01,  3.09157253e-02, -3.72448810e-02,  1.07893415e-01,\n",
       "        7.58293522e-02,  7.52673412e-01,  6.44214599e-01, -1.16353490e-01,\n",
       "        8.31616879e-01,  3.66750318e-01,  6.99912307e-01,  2.35666836e-01,\n",
       "       -2.09833267e-01,  5.04068845e-01, -1.21567180e-01,  3.72030894e-01,\n",
       "        3.88861724e-01,  1.73248397e-01,  2.39000446e-01,  4.25189326e-01,\n",
       "       -5.46246091e-02,  3.64969909e-01,  2.45038101e-01,  4.17253931e-01,\n",
       "        7.20601626e-01,  3.05348484e-01,  1.07935876e-02, -5.21587512e-01,\n",
       "        7.27301352e-02,  2.83290106e-01,  5.85844561e-01,  1.42640659e-01,\n",
       "        1.55579286e-01, -2.94199807e-01,  1.93885196e-01,  1.99275584e-02,\n",
       "        5.72452632e-01,  2.50045612e-01,  5.35729280e-01,  2.38427888e-01,\n",
       "        7.25524294e-01,  8.44456333e-02, -1.41784799e-01,  3.13675470e-01,\n",
       "        3.61922000e-01,  3.49475852e-01,  3.18896086e-01,  5.06871350e-01,\n",
       "        9.96479373e-02, -1.54644633e-01,  2.03731874e-01,  4.34508463e-01,\n",
       "        7.21794061e-01,  3.41145954e-01,  4.66777650e-02, -6.61713418e-02,\n",
       "        2.60619546e-01,  3.10542185e-01, -1.55713048e-01,  4.52713109e-01,\n",
       "        1.43485480e-01,  1.02182553e-01,  5.66471703e-01,  6.42451536e-01,\n",
       "        2.46707357e-02,  1.06971584e-01,  6.77395068e-01,  5.07936286e-01,\n",
       "        3.84978939e-01,  2.06711887e-01,  1.71052662e-01,  3.33825955e-02,\n",
       "        7.96013597e-01,  3.52812691e-01,  2.03232234e-01,  3.87654775e-01,\n",
       "        1.70410802e-01,  4.76782564e-01,  4.46797705e-01,  2.62207065e-01,\n",
       "        2.43742723e-01,  1.86547716e-01,  5.84838153e-01,  6.10641531e-01,\n",
       "        6.15132607e-01,  3.27399914e-01,  3.26262324e-02,  3.03246047e-01,\n",
       "        1.20947171e-01,  6.07571378e-02,  2.99946669e-01,  2.39320604e-01,\n",
       "        2.30887072e-01,  3.58213041e-01,  2.36567335e-01,  4.17949108e-01,\n",
       "        4.80488814e-01, -2.74651336e-01,  6.41904390e-02,  3.44053776e-01,\n",
       "        5.64765735e-01, -2.94337215e-03,  3.90815639e-01,  1.95918091e-01,\n",
       "        7.66915419e-01,  4.93085529e-01,  9.94624453e-01,  8.02812261e-01,\n",
       "        1.12732774e-01,  1.74286175e-01,  9.43077025e-03,  1.07825527e+00,\n",
       "        4.52309060e-01,  3.57566122e-01,  2.65044728e-01,  1.41104261e-01,\n",
       "        3.10419243e-01,  2.94896832e-01,  4.61599959e-01,  3.56229269e-01,\n",
       "        2.88065543e-01,  1.64971736e-01,  2.09310874e-01,  5.05676494e-01,\n",
       "        2.69928378e-01,  2.34108805e-01,  1.26345337e-02,  8.22565164e-01,\n",
       "        1.66742198e-01,  6.34963600e-01,  6.44600347e-01,  5.68992484e-01,\n",
       "        5.72630428e-03,  3.08807686e-01, -5.27284440e-01,  1.01471435e-02,\n",
       "        3.86042363e-01,  9.70408313e-01,  7.75214644e-01,  3.91354113e-01,\n",
       "        3.23475389e-01,  4.05933819e-01,  9.59643509e-02,  4.97535177e-01,\n",
       "        6.23540534e-01,  1.04790925e+00,  1.52491106e-01,  6.15560761e-01,\n",
       "        5.40419222e-02,  1.54205174e-01,  3.83224384e-01,  4.18000022e-01,\n",
       "        2.19180703e-01,  4.17561148e-01,  1.84100147e-01, -1.70137612e-02,\n",
       "        3.70705642e-01,  1.99618732e-01,  9.69248740e-01,  6.05264046e-01,\n",
       "        1.15274547e-01,  8.17548255e-01,  1.13427725e-02,  5.14566788e-01,\n",
       "        7.60018106e-01,  4.86224422e-01,  3.73349892e-01,  8.51960825e-01,\n",
       "        3.58646949e-01,  3.89097246e-01,  2.33166957e-01,  3.95614573e-01,\n",
       "        6.27762914e-01,  5.91256543e-01,  4.54755201e-01,  5.96956163e-01,\n",
       "        7.29878320e-02,  3.48188988e-02,  1.27204526e-01,  7.03581700e-01,\n",
       "        9.91221171e-01,  3.20585159e-01,  5.93720729e-01,  5.78883824e-01,\n",
       "       -6.98883773e-02,  3.82556502e-01, -9.01815980e-03,  7.75036932e-01,\n",
       "        8.17001685e-01,  7.33261416e-01,  7.25998578e-01, -2.37413770e-02,\n",
       "        3.56418267e-02,  1.64900370e-01,  3.55086322e-01,  4.66107934e-01,\n",
       "        4.72292064e-01,  9.17730723e-01,  4.74881005e-01,  5.95194099e-01,\n",
       "        4.42430481e-01,  1.07275640e-01,  4.16130169e-01,  2.30399067e-01,\n",
       "       -4.84125067e-02,  8.01187447e-02,  3.67690691e-01,  2.75848424e-01,\n",
       "        3.06095072e-01,  1.69577460e-01,  6.14110935e-01,  8.60096666e-01,\n",
       "        6.88529194e-01,  6.11080608e-01,  2.19770589e-01,  4.70287197e-01,\n",
       "        3.52929517e-01,  3.34244410e-01,  6.28124617e-01,  5.57451605e-01,\n",
       "        2.32024908e-02,  5.14057401e-01,  6.34493109e-01,  9.39854203e-02,\n",
       "        1.85605248e-01, -2.37576052e-02,  5.06700674e-01,  3.24091948e-01,\n",
       "        2.63707759e-01,  8.92691466e-02,  3.24475752e-01,  1.49703265e-01,\n",
       "        4.54800610e-01,  5.48031264e-01,  4.10674483e-01,  5.82215279e-01,\n",
       "        1.56368341e-01,  4.72285774e-01,  5.69238125e-01,  4.30498617e-01,\n",
       "        6.02500429e-02,  3.27127249e-01,  1.09854941e-02,  2.84452248e-01,\n",
       "        5.63171366e-01,  4.74515124e-01,  4.51088231e-01,  6.49390306e-01,\n",
       "        3.24758673e-01,  2.04000100e-01,  4.94174855e-01,  3.83532080e-01,\n",
       "        7.42476518e-01,  4.31303908e-01,  1.14432472e-01,  4.98716002e-01,\n",
       "        3.13733142e-01,  3.42672381e-01,  6.37123099e-01,  1.73691772e-01,\n",
       "        3.76642490e-01,  3.67612383e-01,  1.04418165e-01,  2.57888571e-01,\n",
       "        3.98111218e-01,  2.91155677e-01,  5.08403669e-01,  2.43777201e-01,\n",
       "       -2.50726359e-02,  6.29502871e-01,  3.21479701e-01,  7.01988757e-01,\n",
       "        3.29746554e-01,  2.23042504e-01,  2.07439018e-01,  6.90863964e-01,\n",
       "        2.36886681e-01,  3.17035362e-01,  3.57138166e-01,  8.35092324e-01,\n",
       "        2.61116468e-01,  2.52442433e-01,  4.84973885e-01,  8.52570343e-02,\n",
       "        9.29076173e-01,  2.89642302e-01, -3.07593850e-03,  6.39949460e-01,\n",
       "        5.15441333e-01,  3.22245480e-01,  6.99475431e-01,  8.19185733e-01,\n",
       "        2.21305237e-01,  7.81624743e-02, -4.30347495e-01,  3.53364491e-01,\n",
       "        4.03961019e-01,  5.30342045e-01,  3.98776905e-01,  2.91661727e-01,\n",
       "        4.20005445e-02, -2.26300380e-01,  2.51716762e-01,  3.65346415e-01,\n",
       "       -3.73698527e-03,  5.53190066e-02,  2.56562282e-01,  6.69313017e-01,\n",
       "        4.19469898e-01,  9.20029660e-01,  4.04379784e-01,  7.85323637e-01,\n",
       "        7.36049852e-01,  5.90668249e-01,  3.42375362e-01,  6.45884451e-01,\n",
       "        4.70636791e-01,  3.06676032e-01,  3.29878718e-01, -3.03548583e-02,\n",
       "       -4.94457626e-02,  2.72346136e-01,  8.41226477e-01, -9.75950512e-03,\n",
       "        9.43955670e-02,  2.31276000e-01,  4.40157553e-01,  7.31625466e-01,\n",
       "       -4.33550480e-02,  1.64970224e-01,  7.21230233e-01,  2.67422270e-01,\n",
       "        2.13536054e-01, -2.68339817e-02,  1.63452900e-01,  1.27291764e-01,\n",
       "        1.47522063e-01,  1.25132515e-01,  3.86967665e-01,  4.39042699e-01,\n",
       "        4.92644927e-01,  2.60737247e-01,  1.66725145e-01,  7.68967043e-01,\n",
       "        1.39912017e-01,  1.87889457e-01,  6.03265830e-01,  4.16431116e-01,\n",
       "        1.98629258e-01,  3.18414140e-01, -6.69953360e-02,  7.52603871e-01,\n",
       "        1.67583669e-01,  4.13672194e-01,  4.51761087e-01,  1.53444753e-01,\n",
       "        6.44268558e-01,  4.78681422e-01,  2.88350175e-01, -2.23749830e-03,\n",
       "        9.10179420e-01,  6.58295418e-01,  3.26705331e-01,  2.32314058e-01,\n",
       "        5.29797475e-01,  2.71902247e-01,  3.87856751e-01,  5.20515146e-01,\n",
       "        1.63121006e-01,  5.80248561e-01, -1.01448946e-01,  2.64782231e-01,\n",
       "        3.83502458e-01,  5.89478011e-02,  2.64693976e-01,  2.49499074e-01,\n",
       "        7.29274662e-01,  6.99144622e-01, -1.94440324e-01,  6.47723553e-01,\n",
       "        3.55046490e-01,  1.12860745e-01,  1.42468919e-01,  1.28845044e-01,\n",
       "       -9.98476009e-03,  2.66193902e-01,  1.17549197e-01,  6.31025729e-01,\n",
       "        6.80541588e-01,  4.71124298e-01, -9.73724168e-02,  3.68387175e-01,\n",
       "        6.34849198e-01,  8.09800067e-02,  2.96482893e-01,  4.15563787e-01,\n",
       "        3.05131282e-01,  1.23064883e+00,  8.01596516e-02,  1.18004036e-01,\n",
       "        1.87541710e-01,  1.84366810e-01, -1.08618278e-01,  3.31229157e-01,\n",
       "        1.42473589e-01,  4.35144516e-01,  2.77077491e-01,  9.20133287e-01,\n",
       "        4.29838192e-01,  1.19236898e-01,  7.78517873e-01,  5.62025559e-01,\n",
       "        3.79696736e-01, -1.41985699e-01,  2.69930160e-01,  1.02204340e-01,\n",
       "        3.63126064e-01,  1.38329758e-01, -7.69480893e-02,  2.00339270e-01,\n",
       "        5.43846583e-01,  7.49441648e-01,  5.41223145e-01,  3.24977937e-01,\n",
       "        3.09210228e-01,  4.34114989e-01,  2.17334206e-01,  3.00328671e-01,\n",
       "        2.25937617e-01,  2.41617293e-01,  3.58160397e-01,  4.02700757e-01,\n",
       "        5.30454603e-01,  2.46479933e-01,  8.48407591e-02,  3.75935272e-02,\n",
       "        7.41958004e-01,  4.22449922e-01,  4.34283953e-01,  8.53429897e-01,\n",
       "        1.10107001e-01,  8.53026506e-01,  1.65631992e-01,  1.05396530e-01,\n",
       "        2.13957404e-01,  4.43250883e-01, -2.26797050e-01,  6.28973875e-01,\n",
       "        2.06155552e-01,  3.26480299e-02,  7.55111558e-01,  5.89972785e-01,\n",
       "        9.75668285e-02,  1.55264020e-01, -1.34742993e-01,  3.47221203e-01,\n",
       "        2.38411146e-01,  1.90570604e-01,  5.96721987e-01,  3.01245861e-01,\n",
       "        1.59825808e-01,  3.86757725e-01,  3.02824841e-01,  1.62947131e-01,\n",
       "        2.10800974e-01,  7.45864315e-02,  8.56392013e-02,  5.18994387e-01,\n",
       "        6.13003529e-01,  4.94966511e-01,  3.03155474e-01,  2.53177104e-01,\n",
       "       -1.44411402e-01,  2.93770140e-01,  4.88900952e-02,  5.97647282e-01,\n",
       "        3.11407842e-01,  2.74358101e-03, -7.55643199e-02,  1.34654691e-01,\n",
       "        1.92846683e-01,  1.42871021e-01,  3.08075118e-01,  3.51114683e-01,\n",
       "        2.81170574e-01,  3.57310862e-01,  1.74459615e-01,  5.45324343e-01,\n",
       "        8.26794991e-02, -1.06885166e-01,  3.34804867e-01,  4.46758011e-01,\n",
       "        4.35890561e-01,  3.46178420e-01,  4.27226020e-01,  1.28418131e-01,\n",
       "        5.21645705e-02,  7.83445919e-01,  9.93526720e-01,  3.54275770e-01,\n",
       "        5.46903586e-01,  6.63960427e-01,  1.47361096e-01,  1.13473563e-01,\n",
       "        3.01807033e-01,  6.03794219e-02,  1.27268595e-01,  2.94345403e-01,\n",
       "        2.04058712e-01,  3.32181212e-01,  5.86229714e-01,  2.46702093e-01,\n",
       "        4.27311006e-01,  7.98515513e-01,  1.38804550e-01,  2.27858377e-01,\n",
       "        7.59329466e-02,  1.22794627e-01,  2.16319727e-01,  2.14677387e-01,\n",
       "        5.12023871e-01,  2.48840216e-01,  7.19751987e-02,  1.22658988e-01,\n",
       "        2.45499189e-01,  1.55923228e-01,  3.41507523e-01,  3.47922198e-01,\n",
       "        3.16866599e-01,  4.13702616e-01,  4.71374689e-01,  9.15206121e-01,\n",
       "        5.05715452e-01,  2.23735672e-01,  4.84956296e-01,  3.73694534e-01,\n",
       "        3.73361756e-01,  5.96099748e-03,  5.86653857e-01,  1.62174624e-01,\n",
       "        7.52228431e-01, -3.02884646e-02,  7.22521404e-01,  2.71077733e-01,\n",
       "        4.16820602e-01,  2.22752840e-01,  4.44097685e-01,  6.02099350e-01,\n",
       "        9.79280774e-02,  1.43195385e-01,  5.97906397e-01,  1.36758655e-01,\n",
       "        8.46523144e-02,  2.56682124e-01,  1.99142445e-01,  6.80082725e-01,\n",
       "        7.99247916e-01,  3.71988224e-01,  7.72224289e-01, -3.74904172e-02,\n",
       "        4.65747353e-01,  4.52622776e-02,  2.01897944e-01,  6.76269175e-01,\n",
       "        7.52420085e-01,  3.44409112e-01,  6.88047341e-01,  1.07625646e-01,\n",
       "        2.20145809e-01, -1.84201879e-01,  4.99593970e-01,  3.53243242e-01,\n",
       "        2.50316669e-01,  1.96591169e-01,  9.82359250e-01,  2.03915581e-01,\n",
       "        1.60249995e-01,  1.94933976e-01,  1.32481429e-01,  2.76264374e-01,\n",
       "        4.06807507e-01,  5.22272589e-02,  3.72508555e-01,  1.17738281e-01,\n",
       "        1.57725546e-01,  1.39442810e-01,  2.10767156e-01,  4.50705813e-01,\n",
       "        2.13862741e-01,  1.31805301e-01,  4.35697903e-01, -6.69732956e-02,\n",
       "        8.77215192e-02,  3.79812569e-01,  4.89194309e-01,  2.98698652e-01,\n",
       "        1.73944692e-01,  4.84196394e-01,  4.09940831e-01,  6.84045026e-01,\n",
       "        4.99719774e-01,  7.57825623e-02, -1.29392062e-03,  2.86868387e-01,\n",
       "        3.71513408e-01,  2.56386389e-01,  1.45264876e-01,  4.95263564e-01,\n",
       "        1.95415667e-02,  4.48154475e-01,  5.51757623e-01,  1.98147380e-01,\n",
       "        6.42635802e-01,  9.94780751e-01,  6.57593375e-01,  6.95694559e-01,\n",
       "        4.12081221e-01,  1.89118163e-01,  5.28717505e-01,  3.53683108e-01,\n",
       "        3.15117854e-01,  6.03464176e-01,  7.18100719e-01,  8.99936277e-02,\n",
       "        1.48301839e-01,  6.06707593e-01,  3.80538555e-01,  7.88736290e-01,\n",
       "        5.47617708e-01,  1.19686799e-01,  3.58094765e-01,  7.47693994e-02,\n",
       "       -1.76243687e-01,  7.04430816e-01,  2.51041975e-01,  3.52605989e-01,\n",
       "        1.22133590e-01,  3.34498205e-01,  2.34659163e-01,  1.62983975e-01,\n",
       "        2.91586811e-01,  5.73747253e-01,  2.98119695e-01,  7.94915588e-01,\n",
       "        4.35250476e-01,  5.74886916e-01, -1.63740744e-02,  3.69350078e-01,\n",
       "        5.25803728e-01,  1.52279966e-01,  3.61296189e-01,  5.43300840e-01,\n",
       "        3.12706661e-01,  4.09879686e-01,  6.74136088e-01,  5.95873784e-01,\n",
       "        1.56551542e-01,  2.03769150e-01,  1.63246128e-01,  3.11032393e-01,\n",
       "        6.87396916e-01,  2.29926425e-01,  4.37201398e-01,  3.75351735e-01,\n",
       "        6.97396119e-01,  2.05581967e-01,  1.26709932e-01,  8.69331299e-01,\n",
       "        6.88334530e-01,  2.87701214e-01,  2.41123583e-01,  3.11525149e-01,\n",
       "        5.01686533e-02,  2.61989504e-01,  4.11521474e-01,  3.91481159e-01,\n",
       "        1.79570786e-01,  3.76875891e-01,  2.57886518e-01,  3.36055023e-01,\n",
       "        4.17027927e-01,  8.59070106e-02,  2.95650931e-01,  2.98431020e-01,\n",
       "        7.37723658e-01,  1.66446798e-01,  1.47133943e-01,  2.48499185e-01,\n",
       "        1.66253387e-01,  1.62410293e-01,  2.12501220e-01,  2.58133357e-01,\n",
       "        6.82352088e-01,  2.31948846e-01,  1.25819203e-01,  5.92010319e-01,\n",
       "        9.15060367e-01,  3.79695828e-01,  5.97879462e-01,  3.26076470e-01])"
      ]
     },
     "execution_count": 76,
     "metadata": {},
     "output_type": "execute_result"
    }
   ],
   "source": [
    "predicted_target"
   ]
  },
  {
   "cell_type": "markdown",
   "metadata": {},
   "source": [
    "#### Is `diabetes_target_test` exactly the same as the model prediction? Explain."
   ]
  },
  {
   "cell_type": "code",
   "execution_count": 89,
   "metadata": {},
   "outputs": [
    {
     "data": {
      "text/plain": [
       "65.0"
      ]
     },
     "execution_count": 89,
     "metadata": {},
     "output_type": "execute_result"
    }
   ],
   "source": [
    "#No, it is an array of float, not integers. That is logical since their was no way a linear model would output \n",
    "#only integers. we need to round the results\n",
    "predicted_target = np.rint(predicted_target)\n",
    "predicted_target\n",
    "target = training_target.to_frame()\n",
    "target['predicted']=predicted_target\n",
    "target['wrong prediction']=target['positive']-target['predicted']\n",
    "target['wrong prediction'].sum()"
   ]
  },
  {
   "cell_type": "markdown",
   "metadata": {},
   "source": [
    "# Bonus Challenge 1 - Hypothesis Testing with `statsmodels`\n",
    "\n",
    "After generating the linear regression model from the dataset, you probably wonder: then what? What is the statistical way to know if my model is reliable or not?\n",
    "\n",
    "Good question. We'll discuss that using Scikit-Learn in Challenge 5. But for now, let's use a fool-proof way by using the ([Linear Regression class of StatsModels](https://www.statsmodels.org/dev/regression.html)) which can also conduct linear regression analysis plus much more such as calcuating the F-score of the linear model as well as the standard errors and t-scores for each coefficient. The F-score and t-scores will tell you whether you can trust your linear model.\n",
    "\n",
    "To understand the statistical meaning of conducting hypothesis testing (e.g. F-test, t-test) for slopes, read [this webpage](https://onlinecourses.science.psu.edu/stat501/node/297/) at your leisure time. We'll give you a brief overview next.\n",
    "\n",
    "* The F-test of your linear model is to verify whether at least one of your coefficients is significantly different from zero. Translating that into the *null hypothesis* and *alternative hypothesis*, that is:\n",
    "\n",
    "    ```\n",
    "    H0 : β1 = β2 = ... = β10 = 0\n",
    "    HA : At least one βj ≠ 0 (for j = 1, 2, ..., 10)\n",
    "    ```\n",
    "\n",
    "* The t-tests on each coefficient is to check whether the confidence interval for the variable contains zero. If the confidence interval contains zero, it means the null hypothesis for that variable is not rejected. In other words, this particular vaiable is not contributing to your linear model and you can remove it from your formula.\n",
    "\n",
    "Read the documentations of [StatsModels Linear Regression](https://www.statsmodels.org/dev/regression.html) as well as its [`OLS` class](https://www.statsmodels.org/dev/generated/statsmodels.regression.linear_model.OLS.html) which stands for *ordinary least squares*.\n",
    "\n",
    "#### In the next cell, analyze `diabetes_data_train` and `diabetes_target_train` with the linear regression model of `statsmodels`. Print the fit summary.\n",
    "\n",
    "Your output should look like:\n",
    "\n",
    "![statsmodels regression](../images/statsmodels.png)"
   ]
  },
  {
   "cell_type": "code",
   "execution_count": 92,
   "metadata": {},
   "outputs": [
    {
     "name": "stdout",
     "output_type": "stream",
     "text": [
      "                            OLS Regression Results                            \n",
      "==============================================================================\n",
      "Dep. Variable:               positive   R-squared:                       0.297\n",
      "Model:                            OLS   Adj. R-squared:                  0.289\n",
      "Method:                 Least Squares   F-statistic:                     39.03\n",
      "Date:                Mon, 27 Feb 2023   Prob (F-statistic):           6.34e-52\n",
      "Time:                        17:27:06   Log-Likelihood:                -373.25\n",
      "No. Observations:                 748   AIC:                             764.5\n",
      "Df Residuals:                     739   BIC:                             806.1\n",
      "Df Model:                           8                                         \n",
      "Covariance Type:            nonrobust                                         \n",
      "==============================================================================\n",
      "                 coef    std err          t      P>|t|      [0.025      0.975]\n",
      "------------------------------------------------------------------------------\n",
      "const         -0.8319      0.087     -9.601      0.000      -1.002      -0.662\n",
      "preg           0.0224      0.005      4.295      0.000       0.012       0.033\n",
      "plas           0.0058      0.001     11.128      0.000       0.005       0.007\n",
      "pres          -0.0023      0.001     -2.853      0.004      -0.004      -0.001\n",
      "skin           0.0005      0.001      0.462      0.644      -0.002       0.003\n",
      "insu          -0.0002      0.000     -1.254      0.210      -0.000       0.000\n",
      "mass           0.0130      0.002      6.171      0.000       0.009       0.017\n",
      "pedi           0.1409      0.046      3.083      0.002       0.051       0.231\n",
      "age            0.0022      0.002      1.398      0.163      -0.001       0.005\n",
      "==============================================================================\n",
      "Omnibus:                       44.085   Durbin-Watson:                   1.979\n",
      "Prob(Omnibus):                  0.000   Jarque-Bera (JB):               32.721\n",
      "Skew:                           0.411   Prob(JB):                     7.85e-08\n",
      "Kurtosis:                       2.389   Cond. No.                     1.10e+03\n",
      "==============================================================================\n",
      "\n",
      "Notes:\n",
      "[1] Standard Errors assume that the covariance matrix of the errors is correctly specified.\n",
      "[2] The condition number is large, 1.1e+03. This might indicate that there are\n",
      "strong multicollinearity or other numerical problems.\n"
     ]
    }
   ],
   "source": [
    "import statsmodels.api as sm\n",
    "def feature_selection_pvalue_train(X_train, y_train):\n",
    "    # Fit the OLS model\n",
    "    \n",
    "    X_train = sm.add_constant(X_train)\n",
    "    model = sm.OLS(y_train, X_train).fit()\n",
    "\n",
    "    return model.summary()\n",
    "model_summary = feature_selection_pvalue_train(training_data, training_target)\n",
    "print(model_summary)"
   ]
  },
  {
   "cell_type": "markdown",
   "metadata": {},
   "source": [
    "#### Interpreting hypothesis testing results\n",
    "\n",
    "Answer the following questions in the cell below:\n",
    "\n",
    "1. What is the F-score of your linear model and is the null hypothesis rejected?\n",
    "\n",
    "1. Does any of the t-tests of the coefficients produce a confidence interval containing zero? What are they?\n",
    "\n",
    "1. How will you modify your linear reguression model according to the test results above?"
   ]
  },
  {
   "cell_type": "code",
   "execution_count": null,
   "metadata": {},
   "outputs": [],
   "source": [
    "#the f score is 39,03 and null hypothesis is rejected\n",
    "#\n",
    "#i'll get rid of the shin feature"
   ]
  },
  {
   "cell_type": "markdown",
   "metadata": {},
   "source": [
    "# Challenge 3 - Peform Supervised Learning on a Pandas Dataframe"
   ]
  },
  {
   "cell_type": "markdown",
   "metadata": {},
   "source": [
    "Now that we have dealt with data that has been formatted for scikit-learn, let's look at data that we will need to format ourselves.\n",
    "\n",
    "In the next cell, load the `auto-mpg.csv` file included in this folder and assign it to a variable called `auto`."
   ]
  },
  {
   "cell_type": "code",
   "execution_count": 94,
   "metadata": {},
   "outputs": [],
   "source": [
    "auto = pd.read_csv(\"/Users/Baudouin/Ironhack/Labs/Labs_Baudouin/module_3/Lab_7_Supervised-Sklearn/data/auto-mpg.csv\")"
   ]
  },
  {
   "cell_type": "markdown",
   "metadata": {},
   "source": [
    "Look at the first 5 rows using the `head()` function:"
   ]
  },
  {
   "cell_type": "code",
   "execution_count": 95,
   "metadata": {},
   "outputs": [
    {
     "data": {
      "text/html": [
       "<div>\n",
       "<style scoped>\n",
       "    .dataframe tbody tr th:only-of-type {\n",
       "        vertical-align: middle;\n",
       "    }\n",
       "\n",
       "    .dataframe tbody tr th {\n",
       "        vertical-align: top;\n",
       "    }\n",
       "\n",
       "    .dataframe thead th {\n",
       "        text-align: right;\n",
       "    }\n",
       "</style>\n",
       "<table border=\"1\" class=\"dataframe\">\n",
       "  <thead>\n",
       "    <tr style=\"text-align: right;\">\n",
       "      <th></th>\n",
       "      <th>mpg</th>\n",
       "      <th>cylinders</th>\n",
       "      <th>displacement</th>\n",
       "      <th>horse_power</th>\n",
       "      <th>weight</th>\n",
       "      <th>acceleration</th>\n",
       "      <th>model_year</th>\n",
       "      <th>car_name</th>\n",
       "    </tr>\n",
       "  </thead>\n",
       "  <tbody>\n",
       "    <tr>\n",
       "      <th>0</th>\n",
       "      <td>18.0</td>\n",
       "      <td>8</td>\n",
       "      <td>307.0</td>\n",
       "      <td>130.0</td>\n",
       "      <td>3504</td>\n",
       "      <td>12.0</td>\n",
       "      <td>70</td>\n",
       "      <td>\\t\"chevrolet chevelle malibu\"</td>\n",
       "    </tr>\n",
       "    <tr>\n",
       "      <th>1</th>\n",
       "      <td>15.0</td>\n",
       "      <td>8</td>\n",
       "      <td>350.0</td>\n",
       "      <td>165.0</td>\n",
       "      <td>3693</td>\n",
       "      <td>11.5</td>\n",
       "      <td>70</td>\n",
       "      <td>\\t\"buick skylark 320\"</td>\n",
       "    </tr>\n",
       "    <tr>\n",
       "      <th>2</th>\n",
       "      <td>18.0</td>\n",
       "      <td>8</td>\n",
       "      <td>318.0</td>\n",
       "      <td>150.0</td>\n",
       "      <td>3436</td>\n",
       "      <td>11.0</td>\n",
       "      <td>70</td>\n",
       "      <td>\\t\"plymouth satellite\"</td>\n",
       "    </tr>\n",
       "    <tr>\n",
       "      <th>3</th>\n",
       "      <td>16.0</td>\n",
       "      <td>8</td>\n",
       "      <td>304.0</td>\n",
       "      <td>150.0</td>\n",
       "      <td>3433</td>\n",
       "      <td>12.0</td>\n",
       "      <td>70</td>\n",
       "      <td>\\t\"amc rebel sst\"</td>\n",
       "    </tr>\n",
       "    <tr>\n",
       "      <th>4</th>\n",
       "      <td>17.0</td>\n",
       "      <td>8</td>\n",
       "      <td>302.0</td>\n",
       "      <td>140.0</td>\n",
       "      <td>3449</td>\n",
       "      <td>10.5</td>\n",
       "      <td>70</td>\n",
       "      <td>\\t\"ford torino\"</td>\n",
       "    </tr>\n",
       "  </tbody>\n",
       "</table>\n",
       "</div>"
      ],
      "text/plain": [
       "    mpg  cylinders  displacement  horse_power  weight  acceleration  \\\n",
       "0  18.0          8         307.0        130.0    3504          12.0   \n",
       "1  15.0          8         350.0        165.0    3693          11.5   \n",
       "2  18.0          8         318.0        150.0    3436          11.0   \n",
       "3  16.0          8         304.0        150.0    3433          12.0   \n",
       "4  17.0          8         302.0        140.0    3449          10.5   \n",
       "\n",
       "   model_year                       car_name  \n",
       "0          70  \\t\"chevrolet chevelle malibu\"  \n",
       "1          70          \\t\"buick skylark 320\"  \n",
       "2          70         \\t\"plymouth satellite\"  \n",
       "3          70              \\t\"amc rebel sst\"  \n",
       "4          70                \\t\"ford torino\"  "
      ]
     },
     "execution_count": 95,
     "metadata": {},
     "output_type": "execute_result"
    }
   ],
   "source": [
    "auto.head()\n"
   ]
  },
  {
   "cell_type": "markdown",
   "metadata": {},
   "source": [
    "Evaluate the data to ensure that all numeric columns are correctly detected as such by pandas. If a column is misclassified as object, coerce it to numeric."
   ]
  },
  {
   "cell_type": "code",
   "execution_count": 96,
   "metadata": {},
   "outputs": [
    {
     "name": "stdout",
     "output_type": "stream",
     "text": [
      "<class 'pandas.core.frame.DataFrame'>\n",
      "RangeIndex: 398 entries, 0 to 397\n",
      "Data columns (total 8 columns):\n",
      " #   Column        Non-Null Count  Dtype  \n",
      "---  ------        --------------  -----  \n",
      " 0   mpg           398 non-null    float64\n",
      " 1   cylinders     398 non-null    int64  \n",
      " 2   displacement  398 non-null    float64\n",
      " 3   horse_power   392 non-null    float64\n",
      " 4   weight        398 non-null    int64  \n",
      " 5   acceleration  398 non-null    float64\n",
      " 6   model_year    398 non-null    int64  \n",
      " 7   car_name      398 non-null    object \n",
      "dtypes: float64(4), int64(3), object(1)\n",
      "memory usage: 25.0+ KB\n"
     ]
    }
   ],
   "source": [
    "auto.info()\n",
    "\n"
   ]
  },
  {
   "cell_type": "markdown",
   "metadata": {},
   "source": [
    "What is the newest model year and the oldest model year?"
   ]
  },
  {
   "cell_type": "code",
   "execution_count": 99,
   "metadata": {},
   "outputs": [
    {
     "name": "stdout",
     "output_type": "stream",
     "text": [
      "82\n",
      "70\n"
     ]
    }
   ],
   "source": [
    "print(auto[\"model_year\"].max())\n",
    "print(auto[\"model_year\"].min())\n"
   ]
  },
  {
   "cell_type": "markdown",
   "metadata": {},
   "source": [
    "Check the dataset for missing values and remove all rows containing at least one missing value."
   ]
  },
  {
   "cell_type": "code",
   "execution_count": 127,
   "metadata": {},
   "outputs": [],
   "source": [
    "auto = auto.dropna()"
   ]
  },
  {
   "cell_type": "markdown",
   "metadata": {},
   "source": [
    "Find the frequency table for the `cylinders` column using the `value_counts()` function. How many possible values of cylinders are there?"
   ]
  },
  {
   "cell_type": "code",
   "execution_count": 128,
   "metadata": {},
   "outputs": [
    {
     "data": {
      "text/plain": [
       "4    199\n",
       "8    103\n",
       "6     83\n",
       "3      4\n",
       "5      3\n",
       "Name: cylinders, dtype: int64"
      ]
     },
     "execution_count": 128,
     "metadata": {},
     "output_type": "execute_result"
    }
   ],
   "source": [
    "auto[\"cylinders\"].value_counts()\n",
    "#there are 5 possible values of cylinders\n"
   ]
  },
  {
   "cell_type": "markdown",
   "metadata": {},
   "source": [
    "We would like to generate a linear regression model that will predict mpg. To do this, first drop the `car_name` column since it does not contain any quantitative data. Next separate the dataframe to predictor and response variables. Separate those into test and training data with 80% of the data in the training set and the remainder in the test set. \n",
    "\n",
    "Assign the predictor and response training data to `X_train` and `y_train` respectively. Similarly, assign the predictor and response test data to `X_test` and `y_test`.\n",
    "\n",
    "*Hint: To separate data for training and test, use the `train_test_split` method we used in previous labs.*"
   ]
  },
  {
   "cell_type": "code",
   "execution_count": 160,
   "metadata": {},
   "outputs": [
    {
     "data": {
      "text/plain": [
       "[     cylinders  displacement  horse_power  weight  acceleration  model_year\n",
       " 293          4          89.0         71.0    1925          14.0          79\n",
       " 346          4          97.0         67.0    2065          17.8          81\n",
       " 14           4         113.0         95.0    2372          15.0          70\n",
       " 185          4          98.0         79.0    2255          17.7          76\n",
       " 90           8         429.0        198.0    4952          11.5          73\n",
       " ..         ...           ...          ...     ...           ...         ...\n",
       " 395          4         135.0         84.0    2295          11.6          82\n",
       " 157          8         350.0        145.0    4440          14.0          75\n",
       " 318          4         134.0         90.0    2711          15.5          80\n",
       " 236          4         140.0         89.0    2755          15.8          77\n",
       " 41           8         318.0        150.0    4096          13.0          71\n",
       " \n",
       " [313 rows x 6 columns],\n",
       "      cylinders  displacement  horse_power  weight  acceleration  model_year\n",
       " 17           6         200.0         85.0    2587          16.0          70\n",
       " 217          4         111.0         80.0    2155          14.8          77\n",
       " 285          8         305.0        130.0    3840          15.4          79\n",
       " 71           3          70.0         97.0    2330          13.5          72\n",
       " 303          4          85.0         65.0    2020          19.2          79\n",
       " ..         ...           ...          ...     ...           ...         ...\n",
       " 164          6         231.0        110.0    3039          15.0          75\n",
       " 139          8         302.0        140.0    4638          16.0          74\n",
       " 196          4          98.0         60.0    2164          22.1          76\n",
       " 56           4          91.0         70.0    1955          20.5          71\n",
       " 323          4         156.0        105.0    2800          14.4          80\n",
       " \n",
       " [79 rows x 6 columns],\n",
       " 293    31.9\n",
       " 346    32.3\n",
       " 14     24.0\n",
       " 185    26.0\n",
       " 90     12.0\n",
       "        ... \n",
       " 395    32.0\n",
       " 157    15.0\n",
       " 318    29.8\n",
       " 236    25.5\n",
       " 41     14.0\n",
       " Name: mpg, Length: 313, dtype: float64,\n",
       " 17     21.0\n",
       " 217    30.0\n",
       " 285    17.0\n",
       " 71     19.0\n",
       " 303    31.8\n",
       "        ... \n",
       " 164    21.0\n",
       " 139    14.0\n",
       " 196    24.5\n",
       " 56     26.0\n",
       " 323    27.9\n",
       " Name: mpg, Length: 79, dtype: float64]"
      ]
     },
     "execution_count": 160,
     "metadata": {},
     "output_type": "execute_result"
    }
   ],
   "source": [
    "from sklearn.model_selection import train_test_split\n",
    "split = train_test_split(auto.drop(\"mpg\",axis=1),auto[\"mpg\"],test_size=0.2)\n",
    "#split = [X_train,X_test,y_train,y_test]\n",
    "X_train = split[0]\n",
    "X_test = split[1]\n",
    "y_train = split[2]\n",
    "y_test = split[3]\n",
    "split\n"
   ]
  },
  {
   "cell_type": "markdown",
   "metadata": {},
   "source": [
    "Now we will processed and peform linear regression on this data to predict the mpg for each vehicle. \n",
    "\n",
    "#### In the next cell, create an instance of the linear regression model and call it `auto_model`. Fit `auto_model` with your training data."
   ]
  },
  {
   "cell_type": "code",
   "execution_count": 157,
   "metadata": {},
   "outputs": [
    {
     "data": {
      "text/html": [
       "<style>#sk-container-id-2 {color: black;background-color: white;}#sk-container-id-2 pre{padding: 0;}#sk-container-id-2 div.sk-toggleable {background-color: white;}#sk-container-id-2 label.sk-toggleable__label {cursor: pointer;display: block;width: 100%;margin-bottom: 0;padding: 0.3em;box-sizing: border-box;text-align: center;}#sk-container-id-2 label.sk-toggleable__label-arrow:before {content: \"▸\";float: left;margin-right: 0.25em;color: #696969;}#sk-container-id-2 label.sk-toggleable__label-arrow:hover:before {color: black;}#sk-container-id-2 div.sk-estimator:hover label.sk-toggleable__label-arrow:before {color: black;}#sk-container-id-2 div.sk-toggleable__content {max-height: 0;max-width: 0;overflow: hidden;text-align: left;background-color: #f0f8ff;}#sk-container-id-2 div.sk-toggleable__content pre {margin: 0.2em;color: black;border-radius: 0.25em;background-color: #f0f8ff;}#sk-container-id-2 input.sk-toggleable__control:checked~div.sk-toggleable__content {max-height: 200px;max-width: 100%;overflow: auto;}#sk-container-id-2 input.sk-toggleable__control:checked~label.sk-toggleable__label-arrow:before {content: \"▾\";}#sk-container-id-2 div.sk-estimator input.sk-toggleable__control:checked~label.sk-toggleable__label {background-color: #d4ebff;}#sk-container-id-2 div.sk-label input.sk-toggleable__control:checked~label.sk-toggleable__label {background-color: #d4ebff;}#sk-container-id-2 input.sk-hidden--visually {border: 0;clip: rect(1px 1px 1px 1px);clip: rect(1px, 1px, 1px, 1px);height: 1px;margin: -1px;overflow: hidden;padding: 0;position: absolute;width: 1px;}#sk-container-id-2 div.sk-estimator {font-family: monospace;background-color: #f0f8ff;border: 1px dotted black;border-radius: 0.25em;box-sizing: border-box;margin-bottom: 0.5em;}#sk-container-id-2 div.sk-estimator:hover {background-color: #d4ebff;}#sk-container-id-2 div.sk-parallel-item::after {content: \"\";width: 100%;border-bottom: 1px solid gray;flex-grow: 1;}#sk-container-id-2 div.sk-label:hover label.sk-toggleable__label {background-color: #d4ebff;}#sk-container-id-2 div.sk-serial::before {content: \"\";position: absolute;border-left: 1px solid gray;box-sizing: border-box;top: 0;bottom: 0;left: 50%;z-index: 0;}#sk-container-id-2 div.sk-serial {display: flex;flex-direction: column;align-items: center;background-color: white;padding-right: 0.2em;padding-left: 0.2em;position: relative;}#sk-container-id-2 div.sk-item {position: relative;z-index: 1;}#sk-container-id-2 div.sk-parallel {display: flex;align-items: stretch;justify-content: center;background-color: white;position: relative;}#sk-container-id-2 div.sk-item::before, #sk-container-id-2 div.sk-parallel-item::before {content: \"\";position: absolute;border-left: 1px solid gray;box-sizing: border-box;top: 0;bottom: 0;left: 50%;z-index: -1;}#sk-container-id-2 div.sk-parallel-item {display: flex;flex-direction: column;z-index: 1;position: relative;background-color: white;}#sk-container-id-2 div.sk-parallel-item:first-child::after {align-self: flex-end;width: 50%;}#sk-container-id-2 div.sk-parallel-item:last-child::after {align-self: flex-start;width: 50%;}#sk-container-id-2 div.sk-parallel-item:only-child::after {width: 0;}#sk-container-id-2 div.sk-dashed-wrapped {border: 1px dashed gray;margin: 0 0.4em 0.5em 0.4em;box-sizing: border-box;padding-bottom: 0.4em;background-color: white;}#sk-container-id-2 div.sk-label label {font-family: monospace;font-weight: bold;display: inline-block;line-height: 1.2em;}#sk-container-id-2 div.sk-label-container {text-align: center;}#sk-container-id-2 div.sk-container {/* jupyter's `normalize.less` sets `[hidden] { display: none; }` but bootstrap.min.css set `[hidden] { display: none !important; }` so we also need the `!important` here to be able to override the default hidden behavior on the sphinx rendered scikit-learn.org. See: https://github.com/scikit-learn/scikit-learn/issues/21755 */display: inline-block !important;position: relative;}#sk-container-id-2 div.sk-text-repr-fallback {display: none;}</style><div id=\"sk-container-id-2\" class=\"sk-top-container\"><div class=\"sk-text-repr-fallback\"><pre>LinearRegression()</pre><b>In a Jupyter environment, please rerun this cell to show the HTML representation or trust the notebook. <br />On GitHub, the HTML representation is unable to render, please try loading this page with nbviewer.org.</b></div><div class=\"sk-container\" hidden><div class=\"sk-item\"><div class=\"sk-estimator sk-toggleable\"><input class=\"sk-toggleable__control sk-hidden--visually\" id=\"sk-estimator-id-2\" type=\"checkbox\" checked><label for=\"sk-estimator-id-2\" class=\"sk-toggleable__label sk-toggleable__label-arrow\">LinearRegression</label><div class=\"sk-toggleable__content\"><pre>LinearRegression()</pre></div></div></div></div></div>"
      ],
      "text/plain": [
       "LinearRegression()"
      ]
     },
     "execution_count": 157,
     "metadata": {},
     "output_type": "execute_result"
    }
   ],
   "source": [
    "from sklearn.model_selection import train_test_split\n",
    "split = train_test_split(auto.drop(\"mpg\",axis=1),auto[\"mpg\"],test_size=0.2)\n",
    "#split = [X_train,X_test,y_train,y_test]\n",
    "X_train = split[0]\n",
    "X_test = split[1]\n",
    "y_train = split[2]\n",
    "y_test = split[3]\n",
    "auto_model = LinearRegression()\n",
    "auto_model.fit(split[0], split[2])\n",
    "from sklearn.metrics import r2_score\n",
    "y_pred = auto_model.predict(X_train)\n",
    "r2_score(y_train,y_pred)\n",
    "y_test_pred = auto_model.predict(X_test)\n",
    "r2_score(y_test,y_test_pred)\n"
   ]
  },
  {
   "cell_type": "markdown",
   "metadata": {},
   "source": [
    "# Challenge 4 - Evaluate the Model\n",
    "\n",
    "In addition to evaluating your model with F-test and t-test, you can also use the *Coefficient of Determination* (a.k.a. *r squared score*). This method does not simply tell *yes* or *no* about the model fit but instead indicates how much variation can be explained by the model. Based on the r squared score, you can decide whether to improve your model in order to obtain a better fit.\n",
    "\n",
    "You can learn about the r squared score [here](). Its formula is:\n",
    "\n",
    "![R Squared](../images/r-squared.png)\n",
    "\n",
    "...where:\n",
    "\n",
    "* yi is an actual data point.\n",
    "* ŷi is the corresponding data point on the estimated regression line.\n",
    "\n",
    "By adding the squares of the difference between all yi-ŷi pairs, we have a measure called SSE (*error sum of squares*) which is an application of the r squared score to indicate the extent to which the estimated regression model is different from the actual data. And we attribute that difference to the random error that is unavoidable in the real world. Obviously, we want the SSE value to be as small as possible.\n",
    "\n",
    "#### In the next cell, compute the predicted *y* based on `X_train` and call it `y_pred`. Then calcualte the r squared score between `y_pred` and `y_train` which indicates how well the estimated regression model fits the training data.\n",
    "\n",
    "*Hint: r squared score can be calculated using `sklearn.metrics.r2_score` ([documentation](https://scikit-learn.org/stable/modules/generated/sklearn.metrics.r2_score.html)).*"
   ]
  },
  {
   "cell_type": "code",
   "execution_count": 158,
   "metadata": {},
   "outputs": [
    {
     "data": {
      "text/plain": [
       "0.8018377151462688"
      ]
     },
     "execution_count": 158,
     "metadata": {},
     "output_type": "execute_result"
    }
   ],
   "source": [
    "from sklearn.metrics import r2_score\n",
    "y_pred = auto_model.predict(X_train)\n",
    "r2_score(y_train,y_pred)"
   ]
  },
  {
   "cell_type": "markdown",
   "metadata": {},
   "source": [
    "#### Our next step is to evaluate the model using the test data. \n",
    "\n",
    "We would like to ensure that our model is not overfitting the data. This means that our model was made to fit too closely to the training data by being overly complex. If a model is overfitted, it is not generalizable to data outside the training data. In that case, we need to reduce the complexity of the model by removing certain features (variables).\n",
    "\n",
    "In the cell below, use the model to generate the predicted values for the test data and assign them to `y_test_pred`. Compute the r squared score of the predicted `y_test_pred` and the oberserved `y_test` data."
   ]
  },
  {
   "cell_type": "code",
   "execution_count": 159,
   "metadata": {},
   "outputs": [
    {
     "data": {
      "text/plain": [
       "0.8365017930798379"
      ]
     },
     "execution_count": 159,
     "metadata": {},
     "output_type": "execute_result"
    }
   ],
   "source": [
    "y_test_pred = auto_model.predict(X_test)\n",
    "r2_score(y_test,y_test_pred)\n"
   ]
  },
  {
   "cell_type": "markdown",
   "metadata": {},
   "source": [
    "#### Explaining the results\n",
    "\n",
    "The r squared scores of the training data and the test data are pretty close (0.8146 vs 0.7818). This means our model is not overfitted. However, there is still room to improve the model fit. Move on to the next challenge."
   ]
  },
  {
   "cell_type": "markdown",
   "metadata": {},
   "source": [
    "# Challenge 5 - Improve the Model Fit\n",
    "\n",
    "While the most common way to improve the fit of a model is by using [regularization](https://datanice.github.io/machine-learning-101-what-is-regularization-interactive.html), there are other simpler ways to improve model fit. The first is to create a simpler model. The second is to increase the train sample size.\n",
    "\n",
    "Let us start with the easier option and increase our train sample size to 90% of the data. Create a new test train split and name the new predictors and response variables `X_train09`, `X_test09`, `y_train09`, `y_test09`."
   ]
  },
  {
   "cell_type": "code",
   "execution_count": null,
   "metadata": {},
   "outputs": [],
   "source": [
    "# Your code here:\n"
   ]
  },
  {
   "cell_type": "markdown",
   "metadata": {},
   "source": [
    "Initialize a new linear regression model. Name this model `auto_model09`. Fit the model to the new sample (training) data."
   ]
  },
  {
   "cell_type": "code",
   "execution_count": null,
   "metadata": {},
   "outputs": [],
   "source": [
    "# Your code here:\n"
   ]
  },
  {
   "cell_type": "markdown",
   "metadata": {},
   "source": [
    "Compute the predicted values and r squared score for our new model and new sample data."
   ]
  },
  {
   "cell_type": "code",
   "execution_count": null,
   "metadata": {},
   "outputs": [],
   "source": [
    "# Your code here:\n"
   ]
  },
  {
   "cell_type": "markdown",
   "metadata": {},
   "source": [
    "Compute the r squared score for the smaller test set. Is there an improvement in the test r squared?"
   ]
  },
  {
   "cell_type": "code",
   "execution_count": null,
   "metadata": {},
   "outputs": [],
   "source": [
    "# Your code here:\n"
   ]
  },
  {
   "cell_type": "markdown",
   "metadata": {},
   "source": [
    "# Bonus Challenge 2 - Backward Elimination \n",
    "\n",
    "The main way to produce a simpler linear regression model is to reduce the number of variables used in the model. In scikit-learn, we can do this by using recursive feature elimination. You can read more about RFE [here](https://scikit-learn.org/stable/modules/generated/sklearn.feature_selection.RFE.html).\n",
    "\n",
    "In the next cell, we will import RFE"
   ]
  },
  {
   "cell_type": "code",
   "execution_count": null,
   "metadata": {},
   "outputs": [],
   "source": [
    "from sklearn.feature_selection import RFE"
   ]
  },
  {
   "cell_type": "markdown",
   "metadata": {},
   "source": [
    "Follow the documentation and initialize an RFE model using the `auto_model` linear regression model. Set `n_features_to_select=3`"
   ]
  },
  {
   "cell_type": "code",
   "execution_count": null,
   "metadata": {},
   "outputs": [],
   "source": [
    "# Your code here:\n"
   ]
  },
  {
   "cell_type": "markdown",
   "metadata": {},
   "source": [
    "Fit the model and print the ranking"
   ]
  },
  {
   "cell_type": "code",
   "execution_count": null,
   "metadata": {},
   "outputs": [],
   "source": [
    "# Your code here:\n"
   ]
  },
  {
   "cell_type": "markdown",
   "metadata": {},
   "source": [
    "Feature importance is ranked from most important (1) to least important (4). Generate a model with the three most important features. The features correspond to variable names. For example, feature 1 is `cylinders` and feature 2 is `displacement`.\n",
    "\n",
    "Perform a test-train split on this reduced column data and call the split data `X_train_reduced`, `X_test_reduced`, `y_test_reduced`, `y_train_reduced`. Use an 80% split."
   ]
  },
  {
   "cell_type": "code",
   "execution_count": null,
   "metadata": {},
   "outputs": [],
   "source": [
    "# Your code here:\n"
   ]
  },
  {
   "cell_type": "markdown",
   "metadata": {},
   "source": [
    "Generate a new model called `auto_model_reduced` and fit this model. Then proceed to compute the r squared score for the model. Did this cause an improvement in the r squared score?"
   ]
  },
  {
   "cell_type": "code",
   "execution_count": null,
   "metadata": {},
   "outputs": [],
   "source": [
    "# Your code here: \n"
   ]
  },
  {
   "cell_type": "markdown",
   "metadata": {},
   "source": [
    "#### Conclusion\n",
    "\n",
    "You may obtain the impression from this lab that without knowing statistical methods in depth, it is difficult to make major progress in machine learning. That is correct. If you are motivated to become a data scientist, statistics is the subject you must be proficient in and there is no shortcut. \n",
    "\n",
    "Completing these labs is not likely to make you a data scientist. But you will have a good sense about what are there in machine learning and what are good for you. In your future career, you can choose one of the three tracks:\n",
    "\n",
    "* Data scientists who need to be proficient in statistical methods.\n",
    "\n",
    "* Data engineers who need to be good at programming.\n",
    "\n",
    "* Data integration specialists who are business or content experts but also understand data and programming. This cross-disciplinary track brings together data, technology, and business and will be in high demands in the next decade."
   ]
  }
 ],
 "metadata": {
  "kernelspec": {
   "display_name": "Python 3 (ipykernel)",
   "language": "python",
   "name": "python3"
  },
  "language_info": {
   "codemirror_mode": {
    "name": "ipython",
    "version": 3
   },
   "file_extension": ".py",
   "mimetype": "text/x-python",
   "name": "python",
   "nbconvert_exporter": "python",
   "pygments_lexer": "ipython3",
   "version": "3.9.13"
  }
 },
 "nbformat": 4,
 "nbformat_minor": 2
}
